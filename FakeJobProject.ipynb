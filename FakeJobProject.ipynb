{
  "nbformat": 4,
  "nbformat_minor": 0,
  "metadata": {
    "colab": {
      "name": "FinalProject.ipynb",
      "provenance": [],
      "collapsed_sections": [
        "J7_UaWJ2r1D9"
      ],
      "toc_visible": true
    },
    "kernelspec": {
      "name": "python3",
      "display_name": "Python 3"
    }
  },
  "cells": [
    {
      "cell_type": "markdown",
      "metadata": {
        "id": "0S3j2UlULm4e",
        "colab_type": "text"
      },
      "source": [
        "# Predicting Fradulent Job Postings Using Naive Bayes Classification\n",
        "Class: ISDS 7070\n",
        "\n",
        "Authors: Youssuf Elnoamany, Arielle Laurent, Leopold Marx, Christopher O’Brien, and Luke Willson\n",
        "\n",
        "Data Source: https://www.kaggle.com/shivamb/real-or-fake-fake-jobposting-prediction\n",
        "\n",
        "\n",
        "Our goal for this project is to minimize the false postivive rate without having outstandingly high false negative rate. This would classify more observations as fake but it also minimizes the fraudulent observations that would be classifed as real."
      ]
    },
    {
      "cell_type": "markdown",
      "metadata": {
        "id": "75JdxsAZNAWM",
        "colab_type": "text"
      },
      "source": [
        "# Imports"
      ]
    },
    {
      "cell_type": "code",
      "metadata": {
        "id": "qiPT3mneM7i3",
        "colab_type": "code",
        "colab": {
          "base_uri": "https://localhost:8080/",
          "height": 153
        },
        "outputId": "97a4760a-2d2a-4698-e624-15b1a6227076"
      },
      "source": [
        "import numpy as np\n",
        "import pandas as pd\n",
        "import seaborn as sns\n",
        "import matplotlib.pyplot as plt\n",
        "#for splitting\n",
        "from sklearn.metrics import accuracy_score\n",
        "from sklearn.model_selection import train_test_split, cross_val_score\n",
        "\n",
        "#text model\n",
        "import re\n",
        "import nltk\n",
        "nltk.download('punkt')\n",
        "nltk.download('stopwords')\n",
        "nltk.download('wordnet')\n",
        "from nltk import sent_tokenize, word_tokenize\n",
        "from nltk.stem.snowball import SnowballStemmer\n",
        "from sklearn.model_selection import cross_val_score\n",
        "from sklearn.naive_bayes import MultinomialNB\n",
        "from sklearn.feature_extraction.text import CountVectorizer\n",
        "from sklearn import metrics\n",
        "\n",
        "# Figures inline and set visualization style\n",
        "%matplotlib inline\n",
        "sns.set()"
      ],
      "execution_count": 1,
      "outputs": [
        {
          "output_type": "stream",
          "text": [
            "/usr/local/lib/python3.6/dist-packages/statsmodels/tools/_testing.py:19: FutureWarning: pandas.util.testing is deprecated. Use the functions in the public API at pandas.testing instead.\n",
            "  import pandas.util.testing as tm\n"
          ],
          "name": "stderr"
        },
        {
          "output_type": "stream",
          "text": [
            "[nltk_data] Downloading package punkt to /root/nltk_data...\n",
            "[nltk_data]   Unzipping tokenizers/punkt.zip.\n",
            "[nltk_data] Downloading package stopwords to /root/nltk_data...\n",
            "[nltk_data]   Unzipping corpora/stopwords.zip.\n",
            "[nltk_data] Downloading package wordnet to /root/nltk_data...\n",
            "[nltk_data]   Unzipping corpora/wordnet.zip.\n"
          ],
          "name": "stdout"
        }
      ]
    },
    {
      "cell_type": "markdown",
      "metadata": {
        "id": "RdpObxPXoboC",
        "colab_type": "text"
      },
      "source": [
        "# Loading Data Set\n",
        "Github only allows files less than 25mb so we had to split the dataset up in three parts and merge it back together in python."
      ]
    },
    {
      "cell_type": "code",
      "metadata": {
        "id": "WJxx4xjSEc-X",
        "colab_type": "code",
        "colab": {
          "base_uri": "https://localhost:8080/",
          "height": 578
        },
        "outputId": "bae7bb1a-b2f8-4ea1-e898-738994e4aa7a"
      },
      "source": [
        "#loading data\n",
        "df_fj1 = pd.read_csv(\"https://github.com/leopoldmarx/MyFiles/raw/master/fake_job_postings1.csv\")\n",
        "df_fj2 = pd.read_csv(\"https://github.com/leopoldmarx/MyFiles/raw/master/fake_job_postings2.csv\")\n",
        "df_fj3 = pd.read_csv(\"https://github.com/leopoldmarx/MyFiles/raw/master/fake_job_postings3.csv\")\n",
        "df_fj = pd.concat([df_fj1,df_fj2,df_fj3]).reset_index(drop=True) #Added this to fix the index COB\n",
        "df_fj.set_index('job_id',inplace=True)\n",
        "#looking at data\n",
        "df_fj.head()"
      ],
      "execution_count": 2,
      "outputs": [
        {
          "output_type": "execute_result",
          "data": {
            "text/html": [
              "<div>\n",
              "<style scoped>\n",
              "    .dataframe tbody tr th:only-of-type {\n",
              "        vertical-align: middle;\n",
              "    }\n",
              "\n",
              "    .dataframe tbody tr th {\n",
              "        vertical-align: top;\n",
              "    }\n",
              "\n",
              "    .dataframe thead th {\n",
              "        text-align: right;\n",
              "    }\n",
              "</style>\n",
              "<table border=\"1\" class=\"dataframe\">\n",
              "  <thead>\n",
              "    <tr style=\"text-align: right;\">\n",
              "      <th></th>\n",
              "      <th>title</th>\n",
              "      <th>location</th>\n",
              "      <th>department</th>\n",
              "      <th>salary_range</th>\n",
              "      <th>company_profile</th>\n",
              "      <th>description</th>\n",
              "      <th>requirements</th>\n",
              "      <th>benefits</th>\n",
              "      <th>telecommuting</th>\n",
              "      <th>has_company_logo</th>\n",
              "      <th>has_questions</th>\n",
              "      <th>employment_type</th>\n",
              "      <th>required_experience</th>\n",
              "      <th>required_education</th>\n",
              "      <th>industry</th>\n",
              "      <th>function</th>\n",
              "      <th>fraudulent</th>\n",
              "    </tr>\n",
              "    <tr>\n",
              "      <th>job_id</th>\n",
              "      <th></th>\n",
              "      <th></th>\n",
              "      <th></th>\n",
              "      <th></th>\n",
              "      <th></th>\n",
              "      <th></th>\n",
              "      <th></th>\n",
              "      <th></th>\n",
              "      <th></th>\n",
              "      <th></th>\n",
              "      <th></th>\n",
              "      <th></th>\n",
              "      <th></th>\n",
              "      <th></th>\n",
              "      <th></th>\n",
              "      <th></th>\n",
              "      <th></th>\n",
              "    </tr>\n",
              "  </thead>\n",
              "  <tbody>\n",
              "    <tr>\n",
              "      <th>1</th>\n",
              "      <td>Marketing Intern</td>\n",
              "      <td>US, NY, New York</td>\n",
              "      <td>Marketing</td>\n",
              "      <td>NaN</td>\n",
              "      <td>We're Food52, and we've created a groundbreaki...</td>\n",
              "      <td>Food52, a fast-growing, James Beard Award-winn...</td>\n",
              "      <td>Experience with content management systems a m...</td>\n",
              "      <td>NaN</td>\n",
              "      <td>0</td>\n",
              "      <td>1</td>\n",
              "      <td>0</td>\n",
              "      <td>Other</td>\n",
              "      <td>Internship</td>\n",
              "      <td>NaN</td>\n",
              "      <td>NaN</td>\n",
              "      <td>Marketing</td>\n",
              "      <td>0</td>\n",
              "    </tr>\n",
              "    <tr>\n",
              "      <th>2</th>\n",
              "      <td>Customer Service - Cloud Video Production</td>\n",
              "      <td>NZ, , Auckland</td>\n",
              "      <td>Success</td>\n",
              "      <td>NaN</td>\n",
              "      <td>90 Seconds, the worlds Cloud Video Production ...</td>\n",
              "      <td>Organised - Focused - Vibrant - Awesome!Do you...</td>\n",
              "      <td>What we expect from you:Your key responsibilit...</td>\n",
              "      <td>What you will get from usThrough being part of...</td>\n",
              "      <td>0</td>\n",
              "      <td>1</td>\n",
              "      <td>0</td>\n",
              "      <td>Full-time</td>\n",
              "      <td>Not Applicable</td>\n",
              "      <td>NaN</td>\n",
              "      <td>Marketing and Advertising</td>\n",
              "      <td>Customer Service</td>\n",
              "      <td>0</td>\n",
              "    </tr>\n",
              "    <tr>\n",
              "      <th>3</th>\n",
              "      <td>Commissioning Machinery Assistant (CMA)</td>\n",
              "      <td>US, IA, Wever</td>\n",
              "      <td>NaN</td>\n",
              "      <td>NaN</td>\n",
              "      <td>Valor Services provides Workforce Solutions th...</td>\n",
              "      <td>Our client, located in Houston, is actively se...</td>\n",
              "      <td>Implement pre-commissioning and commissioning ...</td>\n",
              "      <td>NaN</td>\n",
              "      <td>0</td>\n",
              "      <td>1</td>\n",
              "      <td>0</td>\n",
              "      <td>NaN</td>\n",
              "      <td>NaN</td>\n",
              "      <td>NaN</td>\n",
              "      <td>NaN</td>\n",
              "      <td>NaN</td>\n",
              "      <td>0</td>\n",
              "    </tr>\n",
              "    <tr>\n",
              "      <th>4</th>\n",
              "      <td>Account Executive - Washington DC</td>\n",
              "      <td>US, DC, Washington</td>\n",
              "      <td>Sales</td>\n",
              "      <td>NaN</td>\n",
              "      <td>Our passion for improving quality of life thro...</td>\n",
              "      <td>THE COMPANY: ESRI – Environmental Systems Rese...</td>\n",
              "      <td>EDUCATION: Bachelor’s or Master’s in GIS, busi...</td>\n",
              "      <td>Our culture is anything but corporate—we have ...</td>\n",
              "      <td>0</td>\n",
              "      <td>1</td>\n",
              "      <td>0</td>\n",
              "      <td>Full-time</td>\n",
              "      <td>Mid-Senior level</td>\n",
              "      <td>Bachelor's Degree</td>\n",
              "      <td>Computer Software</td>\n",
              "      <td>Sales</td>\n",
              "      <td>0</td>\n",
              "    </tr>\n",
              "    <tr>\n",
              "      <th>5</th>\n",
              "      <td>Bill Review Manager</td>\n",
              "      <td>US, FL, Fort Worth</td>\n",
              "      <td>NaN</td>\n",
              "      <td>NaN</td>\n",
              "      <td>SpotSource Solutions LLC is a Global Human Cap...</td>\n",
              "      <td>JOB TITLE: Itemization Review ManagerLOCATION:...</td>\n",
              "      <td>QUALIFICATIONS:RN license in the State of Texa...</td>\n",
              "      <td>Full Benefits Offered</td>\n",
              "      <td>0</td>\n",
              "      <td>1</td>\n",
              "      <td>1</td>\n",
              "      <td>Full-time</td>\n",
              "      <td>Mid-Senior level</td>\n",
              "      <td>Bachelor's Degree</td>\n",
              "      <td>Hospital &amp; Health Care</td>\n",
              "      <td>Health Care Provider</td>\n",
              "      <td>0</td>\n",
              "    </tr>\n",
              "  </tbody>\n",
              "</table>\n",
              "</div>"
            ],
            "text/plain": [
              "                                            title  ... fraudulent\n",
              "job_id                                             ...           \n",
              "1                                Marketing Intern  ...          0\n",
              "2       Customer Service - Cloud Video Production  ...          0\n",
              "3         Commissioning Machinery Assistant (CMA)  ...          0\n",
              "4               Account Executive - Washington DC  ...          0\n",
              "5                             Bill Review Manager  ...          0\n",
              "\n",
              "[5 rows x 17 columns]"
            ]
          },
          "metadata": {
            "tags": []
          },
          "execution_count": 2
        }
      ]
    },
    {
      "cell_type": "markdown",
      "metadata": {
        "id": "rDZjOamDmpdn",
        "colab_type": "text"
      },
      "source": [
        "# Descriptve stats of raw data"
      ]
    },
    {
      "cell_type": "code",
      "metadata": {
        "id": "NKq4el85GQiC",
        "colab_type": "code",
        "colab": {
          "base_uri": "https://localhost:8080/",
          "height": 425
        },
        "outputId": "04e57c00-0ba8-4586-84f7-0ac69f388123"
      },
      "source": [
        "df_fj.info()"
      ],
      "execution_count": 3,
      "outputs": [
        {
          "output_type": "stream",
          "text": [
            "<class 'pandas.core.frame.DataFrame'>\n",
            "Int64Index: 17880 entries, 1 to 17880\n",
            "Data columns (total 17 columns):\n",
            " #   Column               Non-Null Count  Dtype \n",
            "---  ------               --------------  ----- \n",
            " 0   title                17880 non-null  object\n",
            " 1   location             17534 non-null  object\n",
            " 2   department           6333 non-null   object\n",
            " 3   salary_range         2868 non-null   object\n",
            " 4   company_profile      14572 non-null  object\n",
            " 5   description          17875 non-null  object\n",
            " 6   requirements         15185 non-null  object\n",
            " 7   benefits             10670 non-null  object\n",
            " 8   telecommuting        17880 non-null  int64 \n",
            " 9   has_company_logo     17880 non-null  int64 \n",
            " 10  has_questions        17880 non-null  int64 \n",
            " 11  employment_type      14409 non-null  object\n",
            " 12  required_experience  10830 non-null  object\n",
            " 13  required_education   9775 non-null   object\n",
            " 14  industry             12977 non-null  object\n",
            " 15  function             11425 non-null  object\n",
            " 16  fraudulent           17880 non-null  int64 \n",
            "dtypes: int64(4), object(13)\n",
            "memory usage: 2.5+ MB\n"
          ],
          "name": "stdout"
        }
      ]
    },
    {
      "cell_type": "code",
      "metadata": {
        "id": "seuLc3gZNlkE",
        "colab_type": "code",
        "colab": {
          "base_uri": "https://localhost:8080/",
          "height": 68
        },
        "outputId": "ce86dbad-f362-449b-97f1-e842f2ebde27"
      },
      "source": [
        "df_fj.fraudulent.value_counts()\n",
        "#Naive Rule = 1-(866/17014) = 0.9491"
      ],
      "execution_count": 4,
      "outputs": [
        {
          "output_type": "execute_result",
          "data": {
            "text/plain": [
              "0    17014\n",
              "1      866\n",
              "Name: fraudulent, dtype: int64"
            ]
          },
          "metadata": {
            "tags": []
          },
          "execution_count": 4
        }
      ]
    },
    {
      "cell_type": "markdown",
      "metadata": {
        "id": "J7_UaWJ2r1D9",
        "colab_type": "text"
      },
      "source": [
        "# Variable Understanding\n",
        "This section is to understand if null variable values are discriminatory for predicting if the job listing is fraudlent or not. Some variables discriminate but we cannot use numeric values in the Naive Bayes model."
      ]
    },
    {
      "cell_type": "code",
      "metadata": {
        "id": "YA8V5DAlA22A",
        "colab_type": "code",
        "colab": {
          "base_uri": "https://localhost:8080/",
          "height": 0
        },
        "outputId": "eb8061a4-7175-4250-892b-472c56f26b54"
      },
      "source": [
        "#Y variable distrubution \n",
        "ax= sns.countplot('fraudulent', data=df_fj)\n",
        "plt.title('The distribution of the target variable (fraudulent)')\n",
        "\n",
        "for p in ax.patches:\n",
        "    ax.annotate(p.get_height(), (p.get_x()+0.3, p.get_height()))\n",
        "\n",
        "\n",
        "plt.xticks([0, 1],[\"Not Fraud\",'Fraud'])\n",
        "plt.xlabel(\"\")\n",
        "\n",
        "plt.show()"
      ],
      "execution_count": 5,
      "outputs": [
        {
          "output_type": "display_data",
          "data": {
            "image/png": "[encoded data removed]",
            "text/plain": [
              "<Figure size 432x288 with 1 Axes>"
            ]
          },
          "metadata": {
            "tags": [],
            "needs_background": "light"
          }
        }
      ]
    },
    {
      "cell_type": "code",
      "metadata": {
        "id": "ITWHe2bRsxYd",
        "colab_type": "code",
        "colab": {}
      },
      "source": [
        "#This function can be called to help show percentages on bar graphs\n",
        "def with_hue(plot, feature, Number_of_categories, hue_categories,):\n",
        "    a = [p.get_height() for p in plot.patches]\n",
        "    patch = [p for p in plot.patches]\n",
        "    for i in range(Number_of_categories):\n",
        "        total = feature.value_counts().values[i]\n",
        "        for j in range(hue_categories):\n",
        "            percentage = '{:.1f}%'.format(100 * a[(j*Number_of_categories + i)]/total)\n",
        "            x = patch[(j*Number_of_categories + i)].get_x() + patch[(j*Number_of_categories + i)].get_width() / 2 - 0.15\n",
        "            y = patch[(j*Number_of_categories + i)].get_y() + patch[(j*Number_of_categories + i)].get_height() \n",
        "            ax.annotate(percentage, (x, y), size = 12)\n",
        "    plt.xticks([0, 1],[\"Not Fraud\",'Fraud'])  \n",
        "    plt.xlabel(\"\")      \n",
        "    plt.show()"
      ],
      "execution_count": 6,
      "outputs": []
    },
    {
      "cell_type": "markdown",
      "metadata": {
        "id": "ARfNgZQQO9cT",
        "colab_type": "text"
      },
      "source": [
        "## Function_null"
      ]
    },
    {
      "cell_type": "code",
      "metadata": {
        "id": "qXV0KU_Bsxe6",
        "colab_type": "code",
        "colab": {
          "base_uri": "https://localhost:8080/",
          "height": 0
        },
        "outputId": "0605664d-fd2b-4218-dd37-77028e2fe4ea"
      },
      "source": [
        "df_fj['function_null'] = df_fj['function'].isnull()\n",
        "ax= sns.countplot('fraudulent', hue= 'function_null', data=df_fj)\n",
        "\n",
        "with_hue(ax, df_fj.fraudulent,2,2)\n"
      ],
      "execution_count": 7,
      "outputs": [
        {
          "output_type": "display_data",
          "data": {
            "image/png": "[encoded data removed]",
            "text/plain": [
              "<Figure size 432x288 with 1 Axes>"
            ]
          },
          "metadata": {
            "tags": [],
            "needs_background": "light"
          }
        }
      ]
    },
    {
      "cell_type": "markdown",
      "metadata": {
        "id": "o-kGTD8HPBaU",
        "colab_type": "text"
      },
      "source": [
        "## Industry_null"
      ]
    },
    {
      "cell_type": "code",
      "metadata": {
        "id": "D4RY5gvYsxkq",
        "colab_type": "code",
        "colab": {
          "base_uri": "https://localhost:8080/",
          "height": 0
        },
        "outputId": "b11e972e-5779-4d81-8d87-a6a1a1feb5e8"
      },
      "source": [
        "df_fj['industry_null'] = df_fj['industry'].isnull()\n",
        "ax= sns.countplot('fraudulent', hue= 'industry_null', data=df_fj)\n",
        "with_hue(ax, df_fj.fraudulent,2,2)\n"
      ],
      "execution_count": 8,
      "outputs": [
        {
          "output_type": "display_data",
          "data": {
            "image/png": "[encoded data removed]",
            "text/plain": [
              "<Figure size 432x288 with 1 Axes>"
            ]
          },
          "metadata": {
            "tags": [],
            "needs_background": "light"
          }
        }
      ]
    },
    {
      "cell_type": "markdown",
      "metadata": {
        "id": "Jy3HlYpmPQcR",
        "colab_type": "text"
      },
      "source": [
        "## Edu_null"
      ]
    },
    {
      "cell_type": "code",
      "metadata": {
        "id": "PfsQzcMJs9Q6",
        "colab_type": "code",
        "colab": {
          "base_uri": "https://localhost:8080/",
          "height": 0
        },
        "outputId": "8cecda71-55a9-4329-9156-7ccd1a6e62cf"
      },
      "source": [
        "df_fj['Edu_null'] = df_fj['required_education'].isnull()\n",
        "ax= sns.countplot('fraudulent', hue= 'Edu_null', data=df_fj)\n",
        "with_hue(ax, df_fj.fraudulent,2,2)\n"
      ],
      "execution_count": 9,
      "outputs": [
        {
          "output_type": "display_data",
          "data": {
            "image/png": "[encoded data removed]",
            "text/plain": [
              "<Figure size 432x288 with 1 Axes>"
            ]
          },
          "metadata": {
            "tags": [],
            "needs_background": "light"
          }
        }
      ]
    },
    {
      "cell_type": "markdown",
      "metadata": {
        "id": "Ofb-CZ7PPYJE",
        "colab_type": "text"
      },
      "source": [
        "## Exp_null"
      ]
    },
    {
      "cell_type": "code",
      "metadata": {
        "id": "4KJiAZIns9WJ",
        "colab_type": "code",
        "colab": {
          "base_uri": "https://localhost:8080/",
          "height": 0
        },
        "outputId": "07543573-bd16-4fac-e3da-6b581f6c8e70"
      },
      "source": [
        "df_fj['Exp_null'] = df_fj['required_experience'].isnull()\n",
        "ax= sns.countplot('fraudulent', hue= 'Exp_null', data=df_fj)\n",
        "with_hue(ax, df_fj.fraudulent,2,2)\n"
      ],
      "execution_count": 10,
      "outputs": [
        {
          "output_type": "display_data",
          "data": {
            "image/png": "[encoded data removed]",
            "text/plain": [
              "<Figure size 432x288 with 1 Axes>"
            ]
          },
          "metadata": {
            "tags": [],
            "needs_background": "light"
          }
        }
      ]
    },
    {
      "cell_type": "markdown",
      "metadata": {
        "id": "vcjxL7SlPaQK",
        "colab_type": "text"
      },
      "source": [
        "## Emp_null"
      ]
    },
    {
      "cell_type": "code",
      "metadata": {
        "id": "R8iS-nhNsxqq",
        "colab_type": "code",
        "colab": {
          "base_uri": "https://localhost:8080/",
          "height": 0
        },
        "outputId": "09f8b18c-08b7-4ac0-80c9-52cfd7160e89"
      },
      "source": [
        "df_fj['Emp_null'] = df_fj['employment_type'].isnull()\n",
        "ax= sns.countplot('fraudulent', hue= 'Emp_null', data=df_fj)\n",
        "with_hue(ax, df_fj.fraudulent,2,2)\n"
      ],
      "execution_count": 11,
      "outputs": [
        {
          "output_type": "display_data",
          "data": {
            "image/png": "[encoded data removed]",
            "text/plain": [
              "<Figure size 432x288 with 1 Axes>"
            ]
          },
          "metadata": {
            "tags": [],
            "needs_background": "light"
          }
        }
      ]
    },
    {
      "cell_type": "markdown",
      "metadata": {
        "id": "EmwcA_FrPcTq",
        "colab_type": "text"
      },
      "source": [
        "## Bene_null"
      ]
    },
    {
      "cell_type": "code",
      "metadata": {
        "id": "VVKkW5rssx1S",
        "colab_type": "code",
        "colab": {
          "base_uri": "https://localhost:8080/",
          "height": 0
        },
        "outputId": "3abe65dc-f339-45a7-862f-1be0dba5ebbc"
      },
      "source": [
        "df_fj['bene_null'] = df_fj['benefits'].isnull()\n",
        "ax= sns.countplot('fraudulent', hue= 'bene_null', data=df_fj)\n",
        "with_hue(ax, df_fj.fraudulent,2,2)\n"
      ],
      "execution_count": 12,
      "outputs": [
        {
          "output_type": "display_data",
          "data": {
            "image/png": "[encoded data removed]",
            "text/plain": [
              "<Figure size 432x288 with 1 Axes>"
            ]
          },
          "metadata": {
            "tags": [],
            "needs_background": "light"
          }
        }
      ]
    },
    {
      "cell_type": "markdown",
      "metadata": {
        "id": "6ZdVHj6vPgdl",
        "colab_type": "text"
      },
      "source": [
        "## Comp_prof_null"
      ]
    },
    {
      "cell_type": "code",
      "metadata": {
        "id": "_KVBDAQ90UlU",
        "colab_type": "code",
        "colab": {
          "base_uri": "https://localhost:8080/",
          "height": 0
        },
        "outputId": "3aa28a3a-0f42-4391-db9c-c5f77557204a"
      },
      "source": [
        "df_fj['comp_prof_null'] = df_fj['company_profile'].isnull()\n",
        "ax= sns.countplot('fraudulent', hue= 'comp_prof_null', data=df_fj)\n",
        "with_hue(ax, df_fj.fraudulent,2,2)\n"
      ],
      "execution_count": 13,
      "outputs": [
        {
          "output_type": "display_data",
          "data": {
            "image/png": "[encoded data removed]",
            "text/plain": [
              "<Figure size 432x288 with 1 Axes>"
            ]
          },
          "metadata": {
            "tags": [],
            "needs_background": "light"
          }
        }
      ]
    },
    {
      "cell_type": "markdown",
      "metadata": {
        "id": "5_oIOMZFPqkG",
        "colab_type": "text"
      },
      "source": [
        "## Dept_null"
      ]
    },
    {
      "cell_type": "code",
      "metadata": {
        "id": "XruRcl8s0Usa",
        "colab_type": "code",
        "colab": {
          "base_uri": "https://localhost:8080/",
          "height": 0
        },
        "outputId": "8c898e32-278a-4d1c-e8dd-4b95e0987f1c"
      },
      "source": [
        "df_fj['dept_null'] = df_fj['department'].isnull()\n",
        "ax= sns.countplot('fraudulent', hue= 'dept_null', data=df_fj)\n",
        "with_hue(ax, df_fj.fraudulent,2,2)\n"
      ],
      "execution_count": 14,
      "outputs": [
        {
          "output_type": "display_data",
          "data": {
            "image/png": "[encoded data removed]",
            "text/plain": [
              "<Figure size 432x288 with 1 Axes>"
            ]
          },
          "metadata": {
            "tags": [],
            "needs_background": "light"
          }
        }
      ]
    },
    {
      "cell_type": "markdown",
      "metadata": {
        "id": "yOgY2hdGhnze",
        "colab_type": "text"
      },
      "source": [
        "## Salary_null"
      ]
    },
    {
      "cell_type": "code",
      "metadata": {
        "id": "FSXAIQTMr-KR",
        "colab_type": "code",
        "colab": {
          "base_uri": "https://localhost:8080/",
          "height": 0
        },
        "outputId": "400ddf1a-235d-4e22-da9c-f686c6230b77"
      },
      "source": [
        "df_fj['salary_null'] = df_fj['salary_range'].isnull()\n",
        "ax= sns.countplot('fraudulent', hue= 'salary_null', data=df_fj)\n",
        "with_hue(ax, df_fj.fraudulent,2,2)\n"
      ],
      "execution_count": 15,
      "outputs": [
        {
          "output_type": "display_data",
          "data": {
            "image/png": "[encoded data removed]",
            "text/plain": [
              "<Figure size 432x288 with 1 Axes>"
            ]
          },
          "metadata": {
            "tags": [],
            "needs_background": "light"
          }
        }
      ]
    },
    {
      "cell_type": "markdown",
      "metadata": {
        "id": "Rj4S2GENgxRW",
        "colab_type": "text"
      },
      "source": [
        "# Changing NaNs\n",
        "We replaced NaNs with spaces to make it compatible with out `text` dummy variable"
      ]
    },
    {
      "cell_type": "code",
      "metadata": {
        "id": "ZK_rmojBcG20",
        "colab_type": "code",
        "colab": {}
      },
      "source": [
        "#replaced NaNs with blank spaces\n",
        "df_fj.fillna(\" \",inplace = True)"
      ],
      "execution_count": 16,
      "outputs": []
    },
    {
      "cell_type": "code",
      "metadata": {
        "id": "D6ASXg91cntR",
        "colab_type": "code",
        "colab": {
          "base_uri": "https://localhost:8080/",
          "height": 578
        },
        "outputId": "e30834be-b788-41a6-883c-9d00656ef2f8"
      },
      "source": [
        "#checking new data\n",
        "df_fj.head()"
      ],
      "execution_count": 17,
      "outputs": [
        {
          "output_type": "execute_result",
          "data": {
            "text/html": [
              "<div>\n",
              "<style scoped>\n",
              "    .dataframe tbody tr th:only-of-type {\n",
              "        vertical-align: middle;\n",
              "    }\n",
              "\n",
              "    .dataframe tbody tr th {\n",
              "        vertical-align: top;\n",
              "    }\n",
              "\n",
              "    .dataframe thead th {\n",
              "        text-align: right;\n",
              "    }\n",
              "</style>\n",
              "<table border=\"1\" class=\"dataframe\">\n",
              "  <thead>\n",
              "    <tr style=\"text-align: right;\">\n",
              "      <th></th>\n",
              "      <th>title</th>\n",
              "      <th>location</th>\n",
              "      <th>department</th>\n",
              "      <th>salary_range</th>\n",
              "      <th>company_profile</th>\n",
              "      <th>description</th>\n",
              "      <th>requirements</th>\n",
              "      <th>benefits</th>\n",
              "      <th>telecommuting</th>\n",
              "      <th>has_company_logo</th>\n",
              "      <th>has_questions</th>\n",
              "      <th>employment_type</th>\n",
              "      <th>required_experience</th>\n",
              "      <th>required_education</th>\n",
              "      <th>industry</th>\n",
              "      <th>function</th>\n",
              "      <th>fraudulent</th>\n",
              "      <th>function_null</th>\n",
              "      <th>industry_null</th>\n",
              "      <th>Edu_null</th>\n",
              "      <th>Exp_null</th>\n",
              "      <th>Emp_null</th>\n",
              "      <th>bene_null</th>\n",
              "      <th>comp_prof_null</th>\n",
              "      <th>dept_null</th>\n",
              "      <th>salary_null</th>\n",
              "    </tr>\n",
              "    <tr>\n",
              "      <th>job_id</th>\n",
              "      <th></th>\n",
              "      <th></th>\n",
              "      <th></th>\n",
              "      <th></th>\n",
              "      <th></th>\n",
              "      <th></th>\n",
              "      <th></th>\n",
              "      <th></th>\n",
              "      <th></th>\n",
              "      <th></th>\n",
              "      <th></th>\n",
              "      <th></th>\n",
              "      <th></th>\n",
              "      <th></th>\n",
              "      <th></th>\n",
              "      <th></th>\n",
              "      <th></th>\n",
              "      <th></th>\n",
              "      <th></th>\n",
              "      <th></th>\n",
              "      <th></th>\n",
              "      <th></th>\n",
              "      <th></th>\n",
              "      <th></th>\n",
              "      <th></th>\n",
              "      <th></th>\n",
              "    </tr>\n",
              "  </thead>\n",
              "  <tbody>\n",
              "    <tr>\n",
              "      <th>1</th>\n",
              "      <td>Marketing Intern</td>\n",
              "      <td>US, NY, New York</td>\n",
              "      <td>Marketing</td>\n",
              "      <td></td>\n",
              "      <td>We're Food52, and we've created a groundbreaki...</td>\n",
              "      <td>Food52, a fast-growing, James Beard Award-winn...</td>\n",
              "      <td>Experience with content management systems a m...</td>\n",
              "      <td></td>\n",
              "      <td>0</td>\n",
              "      <td>1</td>\n",
              "      <td>0</td>\n",
              "      <td>Other</td>\n",
              "      <td>Internship</td>\n",
              "      <td></td>\n",
              "      <td></td>\n",
              "      <td>Marketing</td>\n",
              "      <td>0</td>\n",
              "      <td>False</td>\n",
              "      <td>True</td>\n",
              "      <td>True</td>\n",
              "      <td>False</td>\n",
              "      <td>False</td>\n",
              "      <td>True</td>\n",
              "      <td>False</td>\n",
              "      <td>False</td>\n",
              "      <td>True</td>\n",
              "    </tr>\n",
              "    <tr>\n",
              "      <th>2</th>\n",
              "      <td>Customer Service - Cloud Video Production</td>\n",
              "      <td>NZ, , Auckland</td>\n",
              "      <td>Success</td>\n",
              "      <td></td>\n",
              "      <td>90 Seconds, the worlds Cloud Video Production ...</td>\n",
              "      <td>Organised - Focused - Vibrant - Awesome!Do you...</td>\n",
              "      <td>What we expect from you:Your key responsibilit...</td>\n",
              "      <td>What you will get from usThrough being part of...</td>\n",
              "      <td>0</td>\n",
              "      <td>1</td>\n",
              "      <td>0</td>\n",
              "      <td>Full-time</td>\n",
              "      <td>Not Applicable</td>\n",
              "      <td></td>\n",
              "      <td>Marketing and Advertising</td>\n",
              "      <td>Customer Service</td>\n",
              "      <td>0</td>\n",
              "      <td>False</td>\n",
              "      <td>False</td>\n",
              "      <td>True</td>\n",
              "      <td>False</td>\n",
              "      <td>False</td>\n",
              "      <td>False</td>\n",
              "      <td>False</td>\n",
              "      <td>False</td>\n",
              "      <td>True</td>\n",
              "    </tr>\n",
              "    <tr>\n",
              "      <th>3</th>\n",
              "      <td>Commissioning Machinery Assistant (CMA)</td>\n",
              "      <td>US, IA, Wever</td>\n",
              "      <td></td>\n",
              "      <td></td>\n",
              "      <td>Valor Services provides Workforce Solutions th...</td>\n",
              "      <td>Our client, located in Houston, is actively se...</td>\n",
              "      <td>Implement pre-commissioning and commissioning ...</td>\n",
              "      <td></td>\n",
              "      <td>0</td>\n",
              "      <td>1</td>\n",
              "      <td>0</td>\n",
              "      <td></td>\n",
              "      <td></td>\n",
              "      <td></td>\n",
              "      <td></td>\n",
              "      <td></td>\n",
              "      <td>0</td>\n",
              "      <td>True</td>\n",
              "      <td>True</td>\n",
              "      <td>True</td>\n",
              "      <td>True</td>\n",
              "      <td>True</td>\n",
              "      <td>True</td>\n",
              "      <td>False</td>\n",
              "      <td>True</td>\n",
              "      <td>True</td>\n",
              "    </tr>\n",
              "    <tr>\n",
              "      <th>4</th>\n",
              "      <td>Account Executive - Washington DC</td>\n",
              "      <td>US, DC, Washington</td>\n",
              "      <td>Sales</td>\n",
              "      <td></td>\n",
              "      <td>Our passion for improving quality of life thro...</td>\n",
              "      <td>THE COMPANY: ESRI – Environmental Systems Rese...</td>\n",
              "      <td>EDUCATION: Bachelor’s or Master’s in GIS, busi...</td>\n",
              "      <td>Our culture is anything but corporate—we have ...</td>\n",
              "      <td>0</td>\n",
              "      <td>1</td>\n",
              "      <td>0</td>\n",
              "      <td>Full-time</td>\n",
              "      <td>Mid-Senior level</td>\n",
              "      <td>Bachelor's Degree</td>\n",
              "      <td>Computer Software</td>\n",
              "      <td>Sales</td>\n",
              "      <td>0</td>\n",
              "      <td>False</td>\n",
              "      <td>False</td>\n",
              "      <td>False</td>\n",
              "      <td>False</td>\n",
              "      <td>False</td>\n",
              "      <td>False</td>\n",
              "      <td>False</td>\n",
              "      <td>False</td>\n",
              "      <td>True</td>\n",
              "    </tr>\n",
              "    <tr>\n",
              "      <th>5</th>\n",
              "      <td>Bill Review Manager</td>\n",
              "      <td>US, FL, Fort Worth</td>\n",
              "      <td></td>\n",
              "      <td></td>\n",
              "      <td>SpotSource Solutions LLC is a Global Human Cap...</td>\n",
              "      <td>JOB TITLE: Itemization Review ManagerLOCATION:...</td>\n",
              "      <td>QUALIFICATIONS:RN license in the State of Texa...</td>\n",
              "      <td>Full Benefits Offered</td>\n",
              "      <td>0</td>\n",
              "      <td>1</td>\n",
              "      <td>1</td>\n",
              "      <td>Full-time</td>\n",
              "      <td>Mid-Senior level</td>\n",
              "      <td>Bachelor's Degree</td>\n",
              "      <td>Hospital &amp; Health Care</td>\n",
              "      <td>Health Care Provider</td>\n",
              "      <td>0</td>\n",
              "      <td>False</td>\n",
              "      <td>False</td>\n",
              "      <td>False</td>\n",
              "      <td>False</td>\n",
              "      <td>False</td>\n",
              "      <td>False</td>\n",
              "      <td>False</td>\n",
              "      <td>True</td>\n",
              "      <td>True</td>\n",
              "    </tr>\n",
              "  </tbody>\n",
              "</table>\n",
              "</div>"
            ],
            "text/plain": [
              "                                            title  ... salary_null\n",
              "job_id                                             ...            \n",
              "1                                Marketing Intern  ...        True\n",
              "2       Customer Service - Cloud Video Production  ...        True\n",
              "3         Commissioning Machinery Assistant (CMA)  ...        True\n",
              "4               Account Executive - Washington DC  ...        True\n",
              "5                             Bill Review Manager  ...        True\n",
              "\n",
              "[5 rows x 26 columns]"
            ]
          },
          "metadata": {
            "tags": []
          },
          "execution_count": 17
        }
      ]
    },
    {
      "cell_type": "markdown",
      "metadata": {
        "id": "laT4wpAFpGM9",
        "colab_type": "text"
      },
      "source": [
        "## Combining Text Columns and Cleaning the Data"
      ]
    },
    {
      "cell_type": "code",
      "metadata": {
        "id": "GuD00uoZcGzW",
        "colab_type": "code",
        "colab": {}
      },
      "source": [
        "# combining all text data into one column\n",
        "df_fj['text'] = df_fj['title'] + ' ' + df_fj['location'] + ' ' + df_fj['department'] + ' ' + df_fj['company_profile'] + ' ' + df_fj['description'] + ' ' + df_fj['requirements'] + ' ' + df_fj['benefits'] + ' ' + df_fj['employment_type'] + ' ' + df_fj['required_education']+'' +df_fj['required_experience'] +' ' + df_fj['industry'] + ' ' + df_fj['function'] "
      ],
      "execution_count": 18,
      "outputs": []
    },
    {
      "cell_type": "code",
      "metadata": {
        "id": "FY8aAYG7cGvS",
        "colab_type": "code",
        "colab": {
          "base_uri": "https://localhost:8080/",
          "height": 68
        },
        "outputId": "635fa4b6-ce90-4fbc-99f3-d7415dbeceae"
      },
      "source": [
        "df_fj.text.head(1)"
      ],
      "execution_count": 19,
      "outputs": [
        {
          "output_type": "execute_result",
          "data": {
            "text/plain": [
              "job_id\n",
              "1    Marketing Intern US, NY, New York Marketing We...\n",
              "Name: text, dtype: object"
            ]
          },
          "metadata": {
            "tags": []
          },
          "execution_count": 19
        }
      ]
    },
    {
      "cell_type": "code",
      "metadata": {
        "id": "oKsKIJFEdWCl",
        "colab_type": "code",
        "colab": {}
      },
      "source": [
        "#cleans text by removing HTML tags, punctiation, and numbers\n",
        "def preprocess(text):\n",
        "    clean_data = []\n",
        "    for x in text: #this is Df_pd for Df_np (text[:])\n",
        "        new_text = re.sub('<.*?>', '', x)   # remove HTML tags\n",
        "        new_text = re.sub(r'[^\\w\\s]', '', new_text) # remove punc.\n",
        "        new_text = re.sub(r'\\d+','',new_text)# remove numbers         \n",
        "        if new_text != '':\n",
        "            clean_data.append(new_text)\n",
        "    \n",
        "    return clean_data\n",
        "    "
      ],
      "execution_count": 20,
      "outputs": []
    },
    {
      "cell_type": "code",
      "metadata": {
        "id": "774CQ2Jajbq5",
        "colab_type": "code",
        "colab": {}
      },
      "source": [
        "#tokenizes clean data\n",
        "def tokenization_w(words):\n",
        "    w_new = []\n",
        "    for w in (words):  # for NumPy = words[:]\n",
        "        \n",
        "        w_token = word_tokenize(w)\n",
        "        if w_token != '':\n",
        "            w_new.append(w_token)\n",
        "    return w_new"
      ],
      "execution_count": 21,
      "outputs": []
    },
    {
      "cell_type": "code",
      "metadata": {
        "id": "mqGQ-HlkeXWV",
        "colab_type": "code",
        "colab": {}
      },
      "source": [
        "#Stemming to normalize parts of text data\n",
        "snowball = SnowballStemmer(language = 'english')\n",
        "def stemming(words):\n",
        "    new = []\n",
        "    for observation in words:\n",
        "      stem_words = [snowball.stem(x) for x in observation]\n",
        "      new.append(stem_words)\n",
        "    return new"
      ],
      "execution_count": 22,
      "outputs": []
    },
    {
      "cell_type": "code",
      "metadata": {
        "id": "bOfdciaaUZsM",
        "colab_type": "code",
        "colab": {}
      },
      "source": [
        "df_fj['text_clean_nostem'] = tokenization_w(preprocess(df_fj['text']))\n",
        "df_fj['text_clean'] = stemming(df_fj['text_clean_nostem'])\n",
        "\n",
        "#changes list for words to sting\n",
        "df_fj['text_clean_nostem'] = [\" \".join(i) for i in df_fj['text_clean_nostem']]\n",
        "df_fj['text_clean'] = [\" \".join(i) for i in df_fj['text_clean']]"
      ],
      "execution_count": 23,
      "outputs": []
    },
    {
      "cell_type": "markdown",
      "metadata": {
        "id": "e3_2FQxmq2-O",
        "colab_type": "text"
      },
      "source": [
        "# Modeling"
      ]
    },
    {
      "cell_type": "markdown",
      "metadata": {
        "id": "ljQYfR7PSmgT",
        "colab_type": "text"
      },
      "source": [
        "## Test_Train_Split with Oversampling\n",
        "Oversamling was done because there is a minimal amout of fraudlent cases. We settled on 10 times the amount of fraudlent cases to make the target variable percetage fake closer to 50/50. \n",
        "\n",
        "We investigated oversampling to create a near 50/50 split of real and fake job postings (19 times oversampling fake) but it did not impove the hitrate.\n"
      ]
    },
    {
      "cell_type": "code",
      "metadata": {
        "id": "d8UmByJj39li",
        "colab_type": "code",
        "colab": {}
      },
      "source": [
        "#Splits the full original dataframe\n",
        "x_train_under, X_test, y_train_under, y_test = train_test_split(df_fj.drop('fraudulent', 1), df_fj.fraudulent, test_size=0.3, random_state=9)\n",
        "#re-combines the X and Y for the training data to prepare for oversampling.  618 fakes\n",
        "xy_train_under = pd.concat([x_train_under] + [y_train_under], axis=1).reset_index(drop=True)\n",
        "#oversamples the training data by 9x. 6180 fakes. \n",
        "xy_train_under_fake = xy_train_under[xy_train_under.fraudulent == 1]\n",
        "xy_train = pd.concat([xy_train_under] + [xy_train_under_fake] * 9, axis=0).reset_index(drop=True)\n",
        "#drops the Y to make the oversampled X_train\n",
        "X_train = xy_train.drop('fraudulent', 1)\n",
        "#Oversampled y_train as a series to match the y_test series format\n",
        "y_train = xy_train['fraudulent']"
      ],
      "execution_count": 24,
      "outputs": []
    },
    {
      "cell_type": "code",
      "metadata": {
        "id": "z3yZQuUIRIHe",
        "colab_type": "code",
        "colab": {
          "base_uri": "https://localhost:8080/",
          "height": 284
        },
        "outputId": "78cc052c-2147-4da7-ce56-df3ff57d97be"
      },
      "source": [
        "#Plot of real/fake split\n",
        "ax = sns.countplot(y_train_under)\n",
        "plt.title('Training Set distribution target variable (fraudulent)')\n",
        "for p in ax.patches:\n",
        "    ax.annotate(p.get_height(), (p.get_x()+0.33, p.get_height()))\n",
        "plt.xticks([0, 1],[\"Not Fraud\",'Fraud'])\n",
        "plt.xlabel(\"\")\n",
        "plt.show()"
      ],
      "execution_count": 25,
      "outputs": [
        {
          "output_type": "display_data",
          "data": {
            "image/png": "[encoded data removed]",
            "text/plain": [
              "<Figure size 432x288 with 1 Axes>"
            ]
          },
          "metadata": {
            "tags": [],
            "needs_background": "light"
          }
        }
      ]
    },
    {
      "cell_type": "code",
      "metadata": {
        "id": "ris8wIE6QJK9",
        "colab_type": "code",
        "colab": {
          "base_uri": "https://localhost:8080/",
          "height": 284
        },
        "outputId": "48ab57d1-7dab-4d63-9649-06ba5df41254"
      },
      "source": [
        "#Plot of new training split count\n",
        "ax = sns.countplot(y_train)\n",
        "plt.title('Oversampled Training Set distribution target variable')\n",
        "for p in ax.patches:\n",
        "    ax.annotate(p.get_height(), (p.get_x()+0.33, p.get_height()))\n",
        "plt.xticks([0, 1],[\"Not Fraud\",'Fraud'])\n",
        "plt.xlabel(\"\")\n",
        "plt.show()"
      ],
      "execution_count": 26,
      "outputs": [
        {
          "output_type": "display_data",
          "data": {
            "image/png": "[encoded data removed]",
            "text/plain": [
              "<Figure size 432x288 with 1 Axes>"
            ]
          },
          "metadata": {
            "tags": [],
            "needs_background": "light"
          }
        }
      ]
    },
    {
      "cell_type": "markdown",
      "metadata": {
        "id": "zHjOw2V1KYAQ",
        "colab_type": "text"
      },
      "source": [
        "## Text Model on Original Data Set (Unclean, not Oversampled)"
      ]
    },
    {
      "cell_type": "code",
      "metadata": {
        "id": "98Yr_KYOKjyg",
        "colab_type": "code",
        "colab": {}
      },
      "source": [
        "# Created bag-of-word vectors\n",
        "#Added ['text'] on the transform lines becasue the new X_train has all the columns except Y.\n",
        "count_vectorizer = CountVectorizer(stop_words='english')\n",
        "count_train = count_vectorizer.fit_transform(x_train_under['text'])\n",
        "count_test = count_vectorizer.transform(X_test['text'])"
      ],
      "execution_count": 27,
      "outputs": []
    },
    {
      "cell_type": "code",
      "metadata": {
        "id": "o-oe61g3Kj6V",
        "colab_type": "code",
        "colab": {
          "base_uri": "https://localhost:8080/",
          "height": 170
        },
        "outputId": "3148eab8-80ae-42e9-c097-ae3f1c4cdb6d"
      },
      "source": [
        "# Instantiate a Multinomial Naive Bayes classifier: nb_classifier\n",
        "nb_classifier = MultinomialNB()\n",
        "\n",
        "# Fit the classifier to the training data\n",
        "nb_classifier.fit(count_train, y_train_under)\n",
        "\n",
        "#Training hitrate\n",
        "fit = nb_classifier.predict(count_train)\n",
        "\n",
        "# Create the predicted tags: pred\n",
        "pred_og = nb_classifier.predict(count_test)\n",
        "\n",
        "# Calculate the accuracy score: score\n",
        "score_train = metrics.accuracy_score(y_train_under, fit)\n",
        "score = metrics.accuracy_score(y_test, pred_og)\n",
        "\n",
        "# Calculate the confusion matrix: cm\n",
        "print('Training Hitrate:')\n",
        "print(score_train)\n",
        "cm_train = metrics.confusion_matrix(y_train_under, fit)\n",
        "print(cm_train)\n",
        "print(\" \")\n",
        "print('Validation Hitrate:')\n",
        "print(score)\n",
        "cm = metrics.confusion_matrix(y_test, pred_og)\n",
        "print(cm)"
      ],
      "execution_count": 28,
      "outputs": [
        {
          "output_type": "stream",
          "text": [
            "Training Hitrate:\n",
            "0.977788430808565\n",
            "[[11803    95]\n",
            " [  183   435]]\n",
            " \n",
            "Validation Hitrate:\n",
            "0.9750186428038777\n",
            "[[5096   20]\n",
            " [ 114  134]]\n"
          ],
          "name": "stdout"
        }
      ]
    },
    {
      "cell_type": "code",
      "metadata": {
        "id": "ew2CUX9qKkCG",
        "colab_type": "code",
        "colab": {
          "base_uri": "https://localhost:8080/",
          "height": 305
        },
        "outputId": "a8c7e3bf-2580-46cc-bd26-9ce5d2279892"
      },
      "source": [
        "ax= plt.subplot()\n",
        "sns.heatmap(cm, annot=True, cmap = 'Greens', fmt ='d', linewidths= 1, linecolor = 'green', ax = ax); #annot=True to annotate cells\n",
        "\n",
        "# labels, title and ticks\n",
        "ax.set_xlabel('Predicted labels');ax.set_ylabel('True labels'); \n",
        "ax.set_title('Raw Text/Original Data: Validation', fontsize=18); \n",
        "ax.xaxis.set_ticklabels(['Not Fraud', 'Fraud']); ax.yaxis.set_ticklabels(['Not Fraud', 'Fraud']);"
      ],
      "execution_count": 29,
      "outputs": [
        {
          "output_type": "display_data",
          "data": {
            "image/png": "[encoded data removed]",
            "text/plain": [
              "<Figure size 432x288 with 2 Axes>"
            ]
          },
          "metadata": {
            "tags": [],
            "needs_background": "light"
          }
        }
      ]
    },
    {
      "cell_type": "markdown",
      "metadata": {
        "id": "UYLfzFW7rrJu",
        "colab_type": "text"
      },
      "source": [
        "## Text Model with Oversampling\n"
      ]
    },
    {
      "cell_type": "markdown",
      "metadata": {
        "id": "5ACzKa5Q97fH",
        "colab_type": "text"
      },
      "source": [
        "### Text Model with oversampling without clean data"
      ]
    },
    {
      "cell_type": "code",
      "metadata": {
        "id": "dE8CaMxrMZ8p",
        "colab_type": "code",
        "colab": {}
      },
      "source": [
        "# Created bag-of-word vectors\n",
        "#Added ['text'] on the transform lines becasue the new X_train has all the columns except Y.\n",
        "count_vectorizer = CountVectorizer(stop_words='english')\n",
        "count_train = count_vectorizer.fit_transform(X_train['text'])\n",
        "count_test = count_vectorizer.transform(X_test['text'])"
      ],
      "execution_count": 30,
      "outputs": []
    },
    {
      "cell_type": "code",
      "metadata": {
        "id": "9y7ChnwmMZwq",
        "colab_type": "code",
        "colab": {
          "base_uri": "https://localhost:8080/",
          "height": 170
        },
        "outputId": "0a050cbd-cc19-4b6b-c270-91e5832204c8"
      },
      "source": [
        "# Instantiate a Multinomial Naive Bayes classifier: nb_classifier\n",
        "nb_classifier = MultinomialNB()\n",
        "\n",
        "# Fit the classifier to the training data\n",
        "nb_classifier.fit(count_train, y_train)\n",
        "\n",
        "#Training hitrate\n",
        "fit = nb_classifier.predict(count_train)\n",
        "\n",
        "# Create the predicted tags: pred\n",
        "pred_os = nb_classifier.predict(count_test)\n",
        "\n",
        "# Calculate the accuracy score: score\n",
        "score_train = metrics.accuracy_score(y_train, fit)\n",
        "score = metrics.accuracy_score(y_test, pred_os)\n",
        "\n",
        "# Calculate the confusion matrix: cm\n",
        "print('Training Hitrate:')\n",
        "print(score_train)\n",
        "cm_train = metrics.confusion_matrix(y_train, fit)\n",
        "print(cm_train)\n",
        "print(\" \")\n",
        "print('Validation Hitrate:')\n",
        "print(score)\n",
        "cm = metrics.confusion_matrix(y_test, pred_os)\n",
        "print(cm)"
      ],
      "execution_count": 31,
      "outputs": [
        {
          "output_type": "stream",
          "text": [
            "Training Hitrate:\n",
            "0.974831286646753\n",
            "[[11563   335]\n",
            " [  120  6060]]\n",
            " \n",
            "Validation Hitrate:\n",
            "0.9653243847874721\n",
            "[[4960  156]\n",
            " [  30  218]]\n"
          ],
          "name": "stdout"
        }
      ]
    },
    {
      "cell_type": "code",
      "metadata": {
        "id": "cEbdILMQ6ag5",
        "colab_type": "code",
        "colab": {
          "base_uri": "https://localhost:8080/",
          "height": 305
        },
        "outputId": "d6660676-16dd-4a95-a8b2-34069f2cb254"
      },
      "source": [
        "ax= plt.subplot()\n",
        "sns.heatmap(cm, annot=True, cmap = 'Greens', fmt ='d', linewidths= 1, linecolor = 'green', ax = ax); #annot=True to annotate cells\n",
        "\n",
        "# labels, title and ticks\n",
        "ax.set_xlabel('Predicted labels');ax.set_ylabel('True labels'); \n",
        "ax.set_title('Raw Text: Validation', fontsize=18); \n",
        "ax.xaxis.set_ticklabels(['Not Fraud', 'Fraud']); ax.yaxis.set_ticklabels(['Not Fraud', 'Fraud']);"
      ],
      "execution_count": 32,
      "outputs": [
        {
          "output_type": "display_data",
          "data": {
            "image/png": "[encoded data removed]",
            "text/plain": [
              "<Figure size 432x288 with 2 Axes>"
            ]
          },
          "metadata": {
            "tags": [],
            "needs_background": "light"
          }
        }
      ]
    },
    {
      "cell_type": "markdown",
      "metadata": {
        "id": "8J8v_gznrxRZ",
        "colab_type": "text"
      },
      "source": [
        "### Text Model with Oversampling and Clean Data\n"
      ]
    },
    {
      "cell_type": "code",
      "metadata": {
        "colab_type": "code",
        "id": "J60OD2MOaB17",
        "colab": {}
      },
      "source": [
        "# Created bag-of-word vectors\n",
        "count_vectorizer = CountVectorizer(stop_words='english')\n",
        "count_train = count_vectorizer.fit_transform(X_train['text_clean'])\n",
        "count_test = count_vectorizer.transform(X_test['text_clean'])"
      ],
      "execution_count": 33,
      "outputs": []
    },
    {
      "cell_type": "code",
      "metadata": {
        "id": "dLlCTFELaHlN",
        "colab_type": "code",
        "colab": {
          "base_uri": "https://localhost:8080/",
          "height": 170
        },
        "outputId": "d10d7eb3-012f-477c-f90f-90370f411650"
      },
      "source": [
        "# Instantiate a Multinomial Naive Bayes classifier: nb_classifier\n",
        "nb_classifier = MultinomialNB()\n",
        "\n",
        "# Fit the classifier to the training data\n",
        "nb_classifier.fit(count_train, y_train)\n",
        "\n",
        "#Training hitrate\n",
        "fit = nb_classifier.predict(count_train)\n",
        "\n",
        "# Create the predicted tags: pred\n",
        "pred_os_clean = nb_classifier.predict(count_test)\n",
        "\n",
        "# Calculate the accuracy score: score\n",
        "score_train = metrics.accuracy_score(y_train, fit)\n",
        "score = metrics.accuracy_score(y_test, pred_os_clean)\n",
        "\n",
        "# Calculate the confusion matrix: cm\n",
        "print('Training Hitrate:')\n",
        "print(score_train)\n",
        "cm_train = metrics.confusion_matrix(y_train, fit)\n",
        "print(cm_train)\n",
        "print(\" \")\n",
        "print('Validation Hitrate:')\n",
        "print(score)\n",
        "cm = metrics.confusion_matrix(y_test, pred_os_clean)\n",
        "print(cm)"
      ],
      "execution_count": 34,
      "outputs": [
        {
          "output_type": "stream",
          "text": [
            "Training Hitrate:\n",
            "0.9761588671313198\n",
            "[[11577   321]\n",
            " [  110  6070]]\n",
            " \n",
            "Validation Hitrate:\n",
            "0.9670022371364653\n",
            "[[4974  142]\n",
            " [  35  213]]\n"
          ],
          "name": "stdout"
        }
      ]
    },
    {
      "cell_type": "code",
      "metadata": {
        "id": "-8zWNkaf6X6r",
        "colab_type": "code",
        "colab": {
          "base_uri": "https://localhost:8080/",
          "height": 305
        },
        "outputId": "85edab7a-7325-4476-ac48-db1f0042dbea"
      },
      "source": [
        "ax= plt.subplot()\n",
        "sns.heatmap(cm, annot=True, cmap = 'Blues', fmt ='d', linewidths= 1, linecolor = 'black', ax = ax); #annot=True to annotate cells\n",
        "\n",
        "# labels, title and ticks\n",
        "ax.set_xlabel('Predicted labels');ax.set_ylabel('True labels'); \n",
        "ax.set_title('Clean Text: Validation', fontsize=18); \n",
        "ax.xaxis.set_ticklabels(['Not Fraud', 'Fraud']); ax.yaxis.set_ticklabels(['Not Fraud', 'Fraud']);"
      ],
      "execution_count": 35,
      "outputs": [
        {
          "output_type": "display_data",
          "data": {
            "image/png": "[encoded data removed]",
            "text/plain": [
              "<Figure size 432x288 with 2 Axes>"
            ]
          },
          "metadata": {
            "tags": [],
            "needs_background": "light"
          }
        }
      ]
    },
    {
      "cell_type": "markdown",
      "metadata": {
        "id": "EhLp9hGC6s0r",
        "colab_type": "text"
      },
      "source": [
        "### Text Model with Oversampling and Clean Data (No Stemming)"
      ]
    },
    {
      "cell_type": "code",
      "metadata": {
        "id": "L8-OYJ0J63LH",
        "colab_type": "code",
        "colab": {}
      },
      "source": [
        "# Created bag-of-word vectors\n",
        "count_vectorizer = CountVectorizer(stop_words='english')\n",
        "count_train = count_vectorizer.fit_transform(X_train['text_clean_nostem'])\n",
        "count_test = count_vectorizer.transform(X_test['text_clean_nostem'])"
      ],
      "execution_count": 36,
      "outputs": []
    },
    {
      "cell_type": "code",
      "metadata": {
        "id": "BZJc5XIG7BFv",
        "colab_type": "code",
        "colab": {
          "base_uri": "https://localhost:8080/",
          "height": 170
        },
        "outputId": "f5b4d5a6-e78d-4cb8-a03c-640adc392164"
      },
      "source": [
        "# Instantiate a Multinomial Naive Bayes classifier: nb_classifier\n",
        "nb_classifier = MultinomialNB()\n",
        "\n",
        "# Fit the classifier to the training data\n",
        "nb_classifier.fit(count_train, y_train)\n",
        "\n",
        "#Training hitrate\n",
        "fit = nb_classifier.predict(count_train)\n",
        "\n",
        "# Create the predicted tags: pred\n",
        "pred_os_clean_nostem = nb_classifier.predict(count_test)\n",
        "\n",
        "# Calculate the accuracy score: score\n",
        "score_train = metrics.accuracy_score(y_train, fit)\n",
        "score = metrics.accuracy_score(y_test, pred_os_clean_nostem)\n",
        "\n",
        "# Calculate the confusion matrix: cm\n",
        "print('Training Hitrate:')\n",
        "print(score_train)\n",
        "cm_train = metrics.confusion_matrix(y_train, fit)\n",
        "print(cm_train)\n",
        "print(\" \")\n",
        "print('Validation Hitrate:')\n",
        "print(score)\n",
        "cm = metrics.confusion_matrix(y_test, pred_os_clean_nostem)\n",
        "print(cm)"
      ],
      "execution_count": 37,
      "outputs": [
        {
          "output_type": "stream",
          "text": [
            "Training Hitrate:\n",
            "0.9818010841907291\n",
            "[[11659   239]\n",
            " [   90  6090]]\n",
            " \n",
            "Validation Hitrate:\n",
            "0.9729679343773303\n",
            "[[5004  112]\n",
            " [  33  215]]\n"
          ],
          "name": "stdout"
        }
      ]
    },
    {
      "cell_type": "code",
      "metadata": {
        "id": "n7aEiJmU7Liy",
        "colab_type": "code",
        "colab": {
          "base_uri": "https://localhost:8080/",
          "height": 303
        },
        "outputId": "380737a5-7a8e-433d-9617-f6b67d39f397"
      },
      "source": [
        "ax= plt.subplot()\n",
        "sns.heatmap(cm, annot=True, cmap = 'Reds', fmt ='d', linewidths= 1, linecolor = 'black', ax = ax); #annot=True to annotate cells\n",
        "\n",
        "# labels, title and ticks\n",
        "ax.set_xlabel('Predicted labels');ax.set_ylabel('True labels'); \n",
        "ax.set_title('Clean Text (No-Stemming): Validation', fontsize=16); \n",
        "ax.xaxis.set_ticklabels(['Not Fraud', 'Fraud']); ax.yaxis.set_ticklabels(['Not Fraud', 'Fraud']);"
      ],
      "execution_count": 38,
      "outputs": [
        {
          "output_type": "display_data",
          "data": {
            "image/png": "[encoded data removed]",
            "text/plain": [
              "<Figure size 432x288 with 2 Axes>"
            ]
          },
          "metadata": {
            "tags": [],
            "needs_background": "light"
          }
        }
      ]
    },
    {
      "cell_type": "markdown",
      "metadata": {
        "colab_type": "text",
        "id": "H4LzKbrN-PwT"
      },
      "source": [
        "## Test_Train_Split with Undersampling\n",
        "Undersampling was investigated for similar reasons to oversamping but instead of creating copies of fraudulent cases, we remove real cases to make it closer to a 50/50 split. \n",
        "\n",
        "This obviously removes data from the real job listings so we did not expect this model to preform as well as oversamling. "
      ]
    },
    {
      "cell_type": "code",
      "metadata": {
        "colab_type": "code",
        "id": "HcrD0in4-PwW",
        "colab": {}
      },
      "source": [
        "#Splits the full original dataframe\n",
        "x_train_under, X_test, y_train_under, y_test = train_test_split(df_fj.drop('fraudulent', 1), df_fj.fraudulent, test_size=0.3, random_state=9)\n",
        "#re-combines the X and Y for the training data to prepare for undersampling.  618 fakes\n",
        "xy_train_under = pd.concat([x_train_under] + [y_train_under], axis=1).reset_index(drop=True)\n",
        " \n",
        "xy_train_under_fake = xy_train_under[xy_train_under.fraudulent == 1]\n",
        "xy_train_under_real = xy_train_under[xy_train_under.fraudulent == 0]\n",
        "\n",
        "# number of fake observations\n",
        "n = len(xy_train_under_fake)\n",
        "\n",
        "# samples same amount of real observations as the fake observations\n",
        "xy_train_under_real_sample = xy_train_under_real.sample(n, random_state=38)\n",
        "\n",
        "#combines sampled real and all fake observations\n",
        "xy_train = pd.concat([xy_train_under_real_sample] + [xy_train_under_fake], axis=0).reset_index(drop=True)\n",
        "#drops the Y to make the undersampled X_train\n",
        "X_train = xy_train.drop('fraudulent', 1)\n",
        "#undersampled y_train as a series to match the y_test series format\n",
        "y_train = xy_train['fraudulent']"
      ],
      "execution_count": 39,
      "outputs": []
    },
    {
      "cell_type": "markdown",
      "metadata": {
        "id": "2WBFQUPi9iP5",
        "colab_type": "text"
      },
      "source": [
        "## Text Model with Undersampling\n"
      ]
    },
    {
      "cell_type": "markdown",
      "metadata": {
        "colab_type": "text",
        "id": "g1RtDkQwB6_I"
      },
      "source": [
        "### Text Model with undersampling without clean data"
      ]
    },
    {
      "cell_type": "code",
      "metadata": {
        "colab_type": "code",
        "id": "fgjpEvvOB6_L",
        "colab": {}
      },
      "source": [
        "# Created bag-of-word vectors\n",
        "#Added ['text'] on the transform lines becasue the new X_train has all the columns except Y.\n",
        "count_vectorizer = CountVectorizer(stop_words='english')\n",
        "count_train = count_vectorizer.fit_transform(X_train['text'])\n",
        "count_test = count_vectorizer.transform(X_test['text'])"
      ],
      "execution_count": 40,
      "outputs": []
    },
    {
      "cell_type": "code",
      "metadata": {
        "colab_type": "code",
        "id": "oqbKolgRB6_N",
        "colab": {
          "base_uri": "https://localhost:8080/",
          "height": 170
        },
        "outputId": "8116d28f-a2fb-4131-acb9-4ddd7205324f"
      },
      "source": [
        "# Instantiate a Multinomial Naive Bayes classifier: nb_classifier\n",
        "nb_classifier = MultinomialNB()\n",
        "\n",
        "# Fit the classifier to the training data\n",
        "nb_classifier.fit(count_train, y_train)\n",
        "\n",
        "#Training hitrate\n",
        "fit = nb_classifier.predict(count_train)\n",
        "\n",
        "# Create the predicted tags: pred\n",
        "pred_us = nb_classifier.predict(count_test)\n",
        "\n",
        "# Calculate the accuracy score: score\n",
        "score_train = metrics.accuracy_score(y_train, fit)\n",
        "score = metrics.accuracy_score(y_test, pred_us)\n",
        "\n",
        "# Calculate the confusion matrix: cm\n",
        "print('Training Hitrate:')\n",
        "print(score_train)\n",
        "cm_train = metrics.confusion_matrix(y_train, fit)\n",
        "print(cm_train)\n",
        "print(\" \")\n",
        "print('Validation Hitrate:')\n",
        "print(score)\n",
        "cm = metrics.confusion_matrix(y_test, pred_us)\n",
        "print(cm)"
      ],
      "execution_count": 41,
      "outputs": [
        {
          "output_type": "stream",
          "text": [
            "Training Hitrate:\n",
            "0.9757281553398058\n",
            "[[606  12]\n",
            " [ 18 600]]\n",
            " \n",
            "Validation Hitrate:\n",
            "0.8978374347501864\n",
            "[[4592  524]\n",
            " [  24  224]]\n"
          ],
          "name": "stdout"
        }
      ]
    },
    {
      "cell_type": "code",
      "metadata": {
        "colab_type": "code",
        "id": "rawz7gYYB6_P",
        "colab": {
          "base_uri": "https://localhost:8080/",
          "height": 305
        },
        "outputId": "f9b479ae-2f0d-40f0-e286-234e91ff551b"
      },
      "source": [
        "ax= plt.subplot()\n",
        "sns.heatmap(cm, annot=True, cmap = 'Greens', fmt ='d', linewidths= 1, linecolor = 'green', ax = ax); #annot=True to annotate cells\n",
        "\n",
        "# labels, title and ticks\n",
        "ax.set_xlabel('Predicted labels');ax.set_ylabel('True labels'); \n",
        "ax.set_title('Raw Text: Validation', fontsize=18); \n",
        "ax.xaxis.set_ticklabels(['Not Fraud', 'Fraud']); ax.yaxis.set_ticklabels(['Not Fraud', 'Fraud']);"
      ],
      "execution_count": 42,
      "outputs": [
        {
          "output_type": "display_data",
          "data": {
            "image/png": "[encoded data removed]",
            "text/plain": [
              "<Figure size 432x288 with 2 Axes>"
            ]
          },
          "metadata": {
            "tags": [],
            "needs_background": "light"
          }
        }
      ]
    },
    {
      "cell_type": "markdown",
      "metadata": {
        "colab_type": "text",
        "id": "A1g4xIymB6_R"
      },
      "source": [
        "### Text Model with Undersampling and Clean Data\n"
      ]
    },
    {
      "cell_type": "code",
      "metadata": {
        "colab_type": "code",
        "id": "UsjxO-NkB6_S",
        "colab": {}
      },
      "source": [
        "# Created bag-of-word vectors\n",
        "count_vectorizer = CountVectorizer(stop_words='english')\n",
        "count_train = count_vectorizer.fit_transform(X_train['text_clean'])\n",
        "count_test = count_vectorizer.transform(X_test['text_clean'])"
      ],
      "execution_count": 43,
      "outputs": []
    },
    {
      "cell_type": "code",
      "metadata": {
        "colab_type": "code",
        "id": "P8Fyl3M9B6_T",
        "colab": {
          "base_uri": "https://localhost:8080/",
          "height": 170
        },
        "outputId": "15a25f34-8086-41b0-df34-448ecc4cf5d9"
      },
      "source": [
        "# Instantiate a Multinomial Naive Bayes classifier: nb_classifier\n",
        "nb_classifier = MultinomialNB()\n",
        "\n",
        "# Fit the classifier to the training data\n",
        "nb_classifier.fit(count_train, y_train)\n",
        "\n",
        "#Training hitrate\n",
        "fit = nb_classifier.predict(count_train)\n",
        "\n",
        "# Create the predicted tags: pred\n",
        "pred_us_clean = nb_classifier.predict(count_test)\n",
        "\n",
        "# Calculate the accuracy score: score\n",
        "score_train = metrics.accuracy_score(y_train, fit)\n",
        "score = metrics.accuracy_score(y_test, pred_us_clean)\n",
        "\n",
        "# Calculate the confusion matrix: cm\n",
        "print('Training Hitrate:')\n",
        "print(score_train)\n",
        "cm_train = metrics.confusion_matrix(y_train, fit)\n",
        "print(cm_train)\n",
        "print(\" \")\n",
        "print('Validation Hitrate:')\n",
        "print(score)\n",
        "cm = metrics.confusion_matrix(y_test, pred_us_clean)\n",
        "print(cm)"
      ],
      "execution_count": 44,
      "outputs": [
        {
          "output_type": "stream",
          "text": [
            "Training Hitrate:\n",
            "0.9733009708737864\n",
            "[[604  14]\n",
            " [ 19 599]]\n",
            " \n",
            "Validation Hitrate:\n",
            "0.8976510067114094\n",
            "[[4592  524]\n",
            " [  25  223]]\n"
          ],
          "name": "stdout"
        }
      ]
    },
    {
      "cell_type": "code",
      "metadata": {
        "colab_type": "code",
        "id": "KWWxfVytB6_U",
        "colab": {
          "base_uri": "https://localhost:8080/",
          "height": 305
        },
        "outputId": "7c4e6400-6e28-444c-84d4-9a1e7f587343"
      },
      "source": [
        "ax= plt.subplot()\n",
        "sns.heatmap(cm, annot=True, cmap = 'Blues', fmt ='d', linewidths= 1, linecolor = 'black', ax = ax); #annot=True to annotate cells\n",
        "\n",
        "# labels, title and ticks\n",
        "ax.set_xlabel('Predicted labels');ax.set_ylabel('True labels'); \n",
        "ax.set_title('Clean Text: Validation', fontsize=18); \n",
        "ax.xaxis.set_ticklabels(['Not Fraud', 'Fraud']); ax.yaxis.set_ticklabels(['Not Fraud', 'Fraud']);"
      ],
      "execution_count": 45,
      "outputs": [
        {
          "output_type": "display_data",
          "data": {
            "image/png": "[encoded data removed]",
            "text/plain": [
              "<Figure size 432x288 with 2 Axes>"
            ]
          },
          "metadata": {
            "tags": [],
            "needs_background": "light"
          }
        }
      ]
    },
    {
      "cell_type": "markdown",
      "metadata": {
        "colab_type": "text",
        "id": "vPzqp-S1B6_Y"
      },
      "source": [
        "### Text Model with Undersampling and Clean Data (No Stemming)"
      ]
    },
    {
      "cell_type": "code",
      "metadata": {
        "colab_type": "code",
        "id": "Ng8r1-pjB6_Y",
        "colab": {}
      },
      "source": [
        "# Created bag-of-word vectors\n",
        "count_vectorizer = CountVectorizer(stop_words='english')\n",
        "count_train = count_vectorizer.fit_transform(X_train['text_clean_nostem'])\n",
        "count_test = count_vectorizer.transform(X_test['text_clean_nostem'])"
      ],
      "execution_count": 46,
      "outputs": []
    },
    {
      "cell_type": "code",
      "metadata": {
        "colab_type": "code",
        "id": "LQUmnv2NB6_b",
        "colab": {
          "base_uri": "https://localhost:8080/",
          "height": 170
        },
        "outputId": "c616c32b-9400-453f-8e8c-754c8b97388c"
      },
      "source": [
        "# Instantiate a Multinomial Naive Bayes classifier: nb_classifier\n",
        "nb_classifier = MultinomialNB()\n",
        "\n",
        "# Fit the classifier to the training data\n",
        "nb_classifier.fit(count_train, y_train)\n",
        "\n",
        "#Training hitrate\n",
        "fit = nb_classifier.predict(count_train)\n",
        "\n",
        "# Create the predicted tags: pred\n",
        "pred_us_clean_nostem = nb_classifier.predict(count_test)\n",
        "\n",
        "# Calculate the accuracy score: score\n",
        "score_train = metrics.accuracy_score(y_train, fit)\n",
        "score = metrics.accuracy_score(y_test, pred_us_clean_nostem)\n",
        "\n",
        "# Calculate the confusion matrix: cm\n",
        "print('Training Hitrate:')\n",
        "print(score_train)\n",
        "cm_train = metrics.confusion_matrix(y_train, fit)\n",
        "print(cm_train)\n",
        "print(\" \")\n",
        "print('Validation Hitrate:')\n",
        "print(score)\n",
        "cm = metrics.confusion_matrix(y_test, pred_us_clean_nostem)\n",
        "print(cm)"
      ],
      "execution_count": 47,
      "outputs": [
        {
          "output_type": "stream",
          "text": [
            "Training Hitrate:\n",
            "0.9789644012944984\n",
            "[[608  10]\n",
            " [ 16 602]]\n",
            " \n",
            "Validation Hitrate:\n",
            "0.9136838180462341\n",
            "[[4677  439]\n",
            " [  24  224]]\n"
          ],
          "name": "stdout"
        }
      ]
    },
    {
      "cell_type": "code",
      "metadata": {
        "colab_type": "code",
        "id": "mQr09OwnB6_c",
        "colab": {
          "base_uri": "https://localhost:8080/",
          "height": 303
        },
        "outputId": "f1d5b940-b710-4558-f843-97a2f81ec5db"
      },
      "source": [
        "ax= plt.subplot()\n",
        "sns.heatmap(cm, annot=True, cmap = 'Reds', fmt ='d', linewidths= 1, linecolor = 'black', ax = ax); #annot=True to annotate cells\n",
        "\n",
        "# labels, title and ticks\n",
        "ax.set_xlabel('Predicted labels');ax.set_ylabel('True labels'); \n",
        "ax.set_title('Clean Text (No-Stemming): Validation', fontsize=16); \n",
        "ax.xaxis.set_ticklabels(['Not Fraud', 'Fraud']); ax.yaxis.set_ticklabels(['Not Fraud', 'Fraud']);"
      ],
      "execution_count": 48,
      "outputs": [
        {
          "output_type": "display_data",
          "data": {
            "image/png": "[encoded data removed]",
            "text/plain": [
              "<Figure size 432x288 with 2 Axes>"
            ]
          },
          "metadata": {
            "tags": [],
            "needs_background": "light"
          }
        }
      ]
    },
    {
      "cell_type": "code",
      "metadata": {
        "colab_type": "code",
        "id": "KoJiNIv5-Pwb",
        "colab": {
          "base_uri": "https://localhost:8080/",
          "height": 284
        },
        "outputId": "d7cf4540-10f7-47bc-bde9-90596de402c5"
      },
      "source": [
        "#Plot of real/fake split\n",
        "ax = sns.countplot(y_train_under)\n",
        "plt.title('Training Set distribution target variable (fraudulent)')\n",
        "for p in ax.patches:\n",
        "    ax.annotate(p.get_height(), (p.get_x()+0.33, p.get_height()))\n",
        "plt.xticks([0, 1],[\"Not Fraud\",'Fraud'])\n",
        "plt.xlabel(\"\")\n",
        "plt.show()"
      ],
      "execution_count": 49,
      "outputs": [
        {
          "output_type": "display_data",
          "data": {
            "image/png": "[encoded data removed]",
            "text/plain": [
              "<Figure size 432x288 with 1 Axes>"
            ]
          },
          "metadata": {
            "tags": [],
            "needs_background": "light"
          }
        }
      ]
    },
    {
      "cell_type": "code",
      "metadata": {
        "colab_type": "code",
        "id": "B5_RAB_a-Pwf",
        "colab": {
          "base_uri": "https://localhost:8080/",
          "height": 284
        },
        "outputId": "9ed8cbdc-ca9b-4ef4-a2d8-c86df0536414"
      },
      "source": [
        "#Plot of new training split count\n",
        "ax = sns.countplot(y_train)\n",
        "plt.title('Undersampled Training Set distribution target variable')\n",
        "for p in ax.patches:\n",
        "    ax.annotate(p.get_height(), (p.get_x()+0.33, p.get_height()))\n",
        "plt.xticks([0, 1],[\"Not Fraud\",'Fraud'])\n",
        "plt.xlabel(\"\")\n",
        "plt.show()"
      ],
      "execution_count": 50,
      "outputs": [
        {
          "output_type": "display_data",
          "data": {
            "image/png": "[encoded data removed]",
            "text/plain": [
              "<Figure size 432x288 with 1 Axes>"
            ]
          },
          "metadata": {
            "tags": [],
            "needs_background": "light"
          }
        }
      ]
    },
    {
      "cell_type": "markdown",
      "metadata": {
        "id": "F65BvCQFdXLC",
        "colab_type": "text"
      },
      "source": [
        "# Resluts"
      ]
    },
    {
      "cell_type": "markdown",
      "metadata": {
        "id": "-ouJPaj4ddyl",
        "colab_type": "text"
      },
      "source": [
        "## ROC Curves"
      ]
    },
    {
      "cell_type": "markdown",
      "metadata": {
        "id": "LG38c5BWlwwv",
        "colab_type": "text"
      },
      "source": [
        "Generate ROC curves"
      ]
    },
    {
      "cell_type": "code",
      "metadata": {
        "id": "fmjfuybRluCI",
        "colab_type": "code",
        "colab": {}
      },
      "source": [
        "fpr_og, tpr_og,u = metrics.roc_curve(y_test, pred_og)\n",
        "fpr_os, tpr_os,u = metrics.roc_curve(y_test, pred_os)\n",
        "fpr_os_clean, tpr_os_clean,u = metrics.roc_curve(y_test, pred_os_clean)\n",
        "fpr_os_clean_nostem, tpr_os_clean_nostem,u = metrics.roc_curve(y_test, pred_os_clean_nostem)\n",
        "fpr_us, tpr_us,u = metrics.roc_curve(y_test, pred_us)\n",
        "fpr_us_clean, tpr_us_clean,u = metrics.roc_curve(y_test, pred_us_clean)\n",
        "fpr_us_clean_nostem, tpr_us_clean_nostem,u = metrics.roc_curve(y_test, pred_us_clean_nostem)\n",
        "\n",
        "roc_auc_og = metrics.auc(fpr_og, tpr_og)\n",
        "roc_auc_os = metrics.auc(fpr_os, tpr_os)\n",
        "roc_auc_os_clean = metrics.auc(fpr_os_clean, tpr_os_clean)\n",
        "roc_auc_os_clean_nostem = metrics.auc(fpr_os_clean_nostem, tpr_os_clean_nostem)\n",
        "roc_auc_us = metrics.auc(fpr_us, tpr_us)\n",
        "roc_auc_us_clean = metrics.auc(fpr_us_clean, tpr_us_clean)\n",
        "roc_auc_us_clean_nostem = metrics.auc(fpr_us_clean_nostem, tpr_us_clean_nostem)"
      ],
      "execution_count": 51,
      "outputs": []
    },
    {
      "cell_type": "code",
      "metadata": {
        "id": "DM3Ks3Do9mcC",
        "colab_type": "code",
        "colab": {
          "base_uri": "https://localhost:8080/",
          "height": 301
        },
        "outputId": "45dc05a5-dcdb-4afe-ac5d-50ee45acfbdd"
      },
      "source": [
        "plt.title(\"ROC Curve of Testing data\") \n",
        "\n",
        "plt.plot(fpr_og,tpr_og, label = 'Original: area = %0.4f' % roc_auc_og)\n",
        "plt.plot(fpr_os,tpr_os, label = 'Oversampled & not clean: area = %0.4f' % roc_auc_os)\n",
        "plt.plot(fpr_os_clean,tpr_os_clean, label = 'Oversampled & Clean: area = %0.4f' % roc_auc_os_clean)\n",
        "plt.plot(fpr_os_clean_nostem,tpr_os_clean_nostem, label = 'Oversampled & Clean No-Stem: area = %0.4f' % roc_auc_os_clean_nostem)\n",
        "plt.plot(fpr_us,tpr_us, label = 'Undersampled & not clean: area = %0.4f' % roc_auc_us)\n",
        "plt.plot(fpr_us_clean,tpr_us_clean, label = 'Undersampled & Clean: area = %0.4f' % roc_auc_us_clean)\n",
        "plt.plot(fpr_us_clean_nostem,tpr_us_clean_nostem, label = 'Undersampled & Clean No-Stem: area = %0.4f' % roc_auc_us_clean_nostem)\n",
        "\n",
        "plt.ylabel('True Positive Rate')\n",
        "plt.legend(loc='best')\n",
        "plt.figure(figsize=(30,20))\n",
        "plt.tight_layout()\n",
        "plt.savefig('plot.png', dpi=600, bbox_inches='tight')\n",
        "plt.show()"
      ],
      "execution_count": 52,
      "outputs": [
        {
          "output_type": "display_data",
          "data": {
            "image/png": "[encoded data removed]",
            "text/plain": [
              "<Figure size 432x288 with 1 Axes>"
            ]
          },
          "metadata": {
            "tags": [],
            "needs_background": "light"
          }
        },
        {
          "output_type": "display_data",
          "data": {
            "text/plain": [
              "<Figure size 2160x1440 with 0 Axes>"
            ]
          },
          "metadata": {
            "tags": []
          }
        }
      ]
    },
    {
      "cell_type": "code",
      "metadata": {
        "id": "eOmqpDhNp_UE",
        "colab_type": "code",
        "colab": {}
      },
      "source": [
        ""
      ],
      "execution_count": 52,
      "outputs": []
    }
  ]
}